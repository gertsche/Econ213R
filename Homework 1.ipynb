{
 "cells": [
  {
   "cell_type": "markdown",
   "metadata": {},
   "source": [
    "# Gun Violence in America\n",
    "## An Exploration through Data"
   ]
  },
  {
   "cell_type": "code",
   "execution_count": 111,
   "metadata": {},
   "outputs": [
    {
     "data": {
      "text/html": [
       "<div>\n",
       "<style scoped>\n",
       "    .dataframe tbody tr th:only-of-type {\n",
       "        vertical-align: middle;\n",
       "    }\n",
       "\n",
       "    .dataframe tbody tr th {\n",
       "        vertical-align: top;\n",
       "    }\n",
       "\n",
       "    .dataframe thead th {\n",
       "        text-align: right;\n",
       "    }\n",
       "</style>\n",
       "<table border=\"1\" class=\"dataframe\">\n",
       "  <thead>\n",
       "    <tr style=\"text-align: right;\">\n",
       "      <th></th>\n",
       "      <th>0</th>\n",
       "      <th>1</th>\n",
       "      <th>2</th>\n",
       "      <th>3</th>\n",
       "      <th>4</th>\n",
       "      <th>5</th>\n",
       "      <th>6</th>\n",
       "      <th>7</th>\n",
       "      <th>8</th>\n",
       "      <th>9</th>\n",
       "    </tr>\n",
       "  </thead>\n",
       "  <tbody>\n",
       "    <tr>\n",
       "      <th>2</th>\n",
       "      <td>Alaska</td>\n",
       "      <td>AK</td>\n",
       "      <td>29</td>\n",
       "      <td>16</td>\n",
       "      <td>19</td>\n",
       "      <td>-16</td>\n",
       "      <td>55</td>\n",
       "      <td>2.24</td>\n",
       "      <td>18.19</td>\n",
       "      <td>80.47</td>\n",
       "    </tr>\n",
       "    <tr>\n",
       "      <th>3</th>\n",
       "      <td>Arizona</td>\n",
       "      <td>AZ</td>\n",
       "      <td>339</td>\n",
       "      <td>222</td>\n",
       "      <td>232</td>\n",
       "      <td>-4</td>\n",
       "      <td>65</td>\n",
       "      <td>3.53</td>\n",
       "      <td>50.24</td>\n",
       "      <td>57.36</td>\n",
       "    </tr>\n",
       "    <tr>\n",
       "      <th>4</th>\n",
       "      <td>Arkansas</td>\n",
       "      <td>AR</td>\n",
       "      <td>153</td>\n",
       "      <td>110</td>\n",
       "      <td>93</td>\n",
       "      <td>18</td>\n",
       "      <td>72</td>\n",
       "      <td>4.39</td>\n",
       "      <td>45.45</td>\n",
       "      <td>100.56</td>\n",
       "    </tr>\n",
       "    <tr>\n",
       "      <th>5</th>\n",
       "      <td>California</td>\n",
       "      <td>CA</td>\n",
       "      <td>1790</td>\n",
       "      <td>1220</td>\n",
       "      <td>1257</td>\n",
       "      <td>-3</td>\n",
       "      <td>68</td>\n",
       "      <td>3.25</td>\n",
       "      <td>42.97</td>\n",
       "      <td>45.39</td>\n",
       "    </tr>\n",
       "    <tr>\n",
       "      <th>6</th>\n",
       "      <td>Colorado</td>\n",
       "      <td>CO</td>\n",
       "      <td>147</td>\n",
       "      <td>73</td>\n",
       "      <td>65</td>\n",
       "      <td>12</td>\n",
       "      <td>50</td>\n",
       "      <td>1.51</td>\n",
       "      <td>25.74</td>\n",
       "      <td>45.72</td>\n",
       "    </tr>\n",
       "  </tbody>\n",
       "</table>\n",
       "</div>"
      ],
      "text/plain": [
       "            0   1     2     3     4    5   6     7      8       9\n",
       "2      Alaska  AK    29    16    19  -16  55  2.24  18.19   80.47\n",
       "3     Arizona  AZ   339   222   232   -4  65  3.53  50.24   57.36\n",
       "4    Arkansas  AR   153   110    93   18  72  4.39  45.45  100.56\n",
       "5  California  CA  1790  1220  1257   -3  68  3.25  42.97   45.39\n",
       "6    Colorado  CO   147    73    65   12  50  1.51  25.74   45.72"
      ]
     },
     "execution_count": 111,
     "metadata": {},
     "output_type": "execute_result"
    }
   ],
   "source": [
    "import pandas as pd\n",
    "import requests \n",
    "import numpy as np\n",
    "import json\n",
    "import seaborn as sns\n",
    "import matplotlib.pyplot as plt\n",
    "\n",
    "# JSON\n",
    "# https://github.com/dperrymorrow/gun-violence\n",
    "# \"State\", \"State code\", \"Total\\nmurders\", \"Total\\nfirearms murders, 2011\", \"Total firearms murders, 2010\",\n",
    "# \"% change, 2010-11\", \"Firearms murders as % of all murders\", \"Firearms murders per 100,000 population\",\n",
    "# \"Firearms robberies per 100,000 pop)\", \"Firearms assaults per 100,000 population\"\n",
    "json_ms = pd.read_json(\"C:/Elise/BYU/Winter 2019/ECON 213R/Homework 1/states.json\")\n",
    "json_ms = json_ms.drop(0, axis = 0) # drop the first row, which contained titles as text\n",
    "json_ms = json_ms.drop(1, axis = 0) # drop the first row again, because it's data for the whole US\n",
    "json_ms.head()\n"
   ]
  },
  {
   "cell_type": "code",
   "execution_count": 47,
   "metadata": {},
   "outputs": [
    {
     "data": {
      "text/html": [
       "<div>\n",
       "<style scoped>\n",
       "    .dataframe tbody tr th:only-of-type {\n",
       "        vertical-align: middle;\n",
       "    }\n",
       "\n",
       "    .dataframe tbody tr th {\n",
       "        vertical-align: top;\n",
       "    }\n",
       "\n",
       "    .dataframe thead th {\n",
       "        text-align: right;\n",
       "    }\n",
       "</style>\n",
       "<table border=\"1\" class=\"dataframe\">\n",
       "  <thead>\n",
       "    <tr style=\"text-align: right;\">\n",
       "      <th></th>\n",
       "      <th>Incident Date</th>\n",
       "      <th>State</th>\n",
       "      <th>City Or County</th>\n",
       "      <th>Address</th>\n",
       "      <th># Killed</th>\n",
       "      <th># Injured</th>\n",
       "      <th>Operations</th>\n",
       "    </tr>\n",
       "  </thead>\n",
       "  <tbody>\n",
       "    <tr>\n",
       "      <th>0</th>\n",
       "      <td>January 29, 2019</td>\n",
       "      <td>Indiana</td>\n",
       "      <td>Indianapolis</td>\n",
       "      <td>3000 block of Baltimore Ave</td>\n",
       "      <td>0</td>\n",
       "      <td>1</td>\n",
       "      <td>NaN</td>\n",
       "    </tr>\n",
       "    <tr>\n",
       "      <th>1</th>\n",
       "      <td>January 29, 2019</td>\n",
       "      <td>Pennsylvania</td>\n",
       "      <td>Philadelphia</td>\n",
       "      <td>1900 block of Rowan St</td>\n",
       "      <td>1</td>\n",
       "      <td>0</td>\n",
       "      <td>NaN</td>\n",
       "    </tr>\n",
       "    <tr>\n",
       "      <th>2</th>\n",
       "      <td>January 29, 2019</td>\n",
       "      <td>Florida</td>\n",
       "      <td>Miami</td>\n",
       "      <td>NW 65th St and 35th Ave</td>\n",
       "      <td>0</td>\n",
       "      <td>2</td>\n",
       "      <td>NaN</td>\n",
       "    </tr>\n",
       "    <tr>\n",
       "      <th>3</th>\n",
       "      <td>January 29, 2019</td>\n",
       "      <td>Texas</td>\n",
       "      <td>San Antonio</td>\n",
       "      <td>7800 block of Woodchase Dr</td>\n",
       "      <td>1</td>\n",
       "      <td>0</td>\n",
       "      <td>NaN</td>\n",
       "    </tr>\n",
       "    <tr>\n",
       "      <th>4</th>\n",
       "      <td>January 29, 2019</td>\n",
       "      <td>Illinois</td>\n",
       "      <td>Chicago</td>\n",
       "      <td>5000 block of S Washington Park Ct</td>\n",
       "      <td>0</td>\n",
       "      <td>1</td>\n",
       "      <td>NaN</td>\n",
       "    </tr>\n",
       "  </tbody>\n",
       "</table>\n",
       "</div>"
      ],
      "text/plain": [
       "      Incident Date         State City Or County  \\\n",
       "0  January 29, 2019       Indiana   Indianapolis   \n",
       "1  January 29, 2019  Pennsylvania   Philadelphia   \n",
       "2  January 29, 2019       Florida          Miami   \n",
       "3  January 29, 2019         Texas    San Antonio   \n",
       "4  January 29, 2019      Illinois        Chicago   \n",
       "\n",
       "                              Address  # Killed  # Injured  Operations  \n",
       "0         3000 block of Baltimore Ave         0          1         NaN  \n",
       "1              1900 block of Rowan St         1          0         NaN  \n",
       "2             NW 65th St and 35th Ave         0          2         NaN  \n",
       "3          7800 block of Woodchase Dr         1          0         NaN  \n",
       "4  5000 block of S Washington Park Ct         0          1         NaN  "
      ]
     },
     "execution_count": 47,
     "metadata": {},
     "output_type": "execute_result"
    }
   ],
   "source": [
    "# CSV FILE\n",
    "# from https://www.gunviolencearchive.org/query/5e04baa7-f0e2-466b-adf4-f2e40b7dc4ed\n",
    "# downloaded 1/29/2019\n",
    "\n",
    "csv_ms = pd.read_csv(\"C:/Elise/BYU/Winter 2019/ECON 213R/Homework 1/gun violence.csv\")\n",
    "csv_ms.head()"
   ]
  },
  {
   "cell_type": "code",
   "execution_count": 79,
   "metadata": {},
   "outputs": [
    {
     "data": {
      "text/html": [
       "<div>\n",
       "<style scoped>\n",
       "    .dataframe tbody tr th:only-of-type {\n",
       "        vertical-align: middle;\n",
       "    }\n",
       "\n",
       "    .dataframe tbody tr th {\n",
       "        vertical-align: top;\n",
       "    }\n",
       "\n",
       "    .dataframe thead th {\n",
       "        text-align: right;\n",
       "    }\n",
       "</style>\n",
       "<table border=\"1\" class=\"dataframe\">\n",
       "  <thead>\n",
       "    <tr style=\"text-align: right;\">\n",
       "      <th></th>\n",
       "      <th>CaseID</th>\n",
       "      <th>Title</th>\n",
       "      <th>Location</th>\n",
       "      <th>City</th>\n",
       "      <th>State</th>\n",
       "      <th>Latitude</th>\n",
       "      <th>Longitude</th>\n",
       "      <th>Number of Victim Fatalities</th>\n",
       "      <th>Total Number of Fatalities</th>\n",
       "      <th>Number of Victims Injured</th>\n",
       "      <th>...</th>\n",
       "      <th>Data Source 1</th>\n",
       "      <th>Data Source 2</th>\n",
       "      <th>Data Source 3</th>\n",
       "      <th>Data Source 4</th>\n",
       "      <th>Data Source 5</th>\n",
       "      <th>Data Source 6</th>\n",
       "      <th>Data Source 7</th>\n",
       "      <th>Military Experience</th>\n",
       "      <th>Class</th>\n",
       "      <th>geopoint</th>\n",
       "    </tr>\n",
       "  </thead>\n",
       "  <tbody>\n",
       "    <tr>\n",
       "      <th>0</th>\n",
       "      <td>140</td>\n",
       "      <td>Phoenix Law Firm</td>\n",
       "      <td>Phoenix, Arizona</td>\n",
       "      <td>Phoenix</td>\n",
       "      <td>Arizona</td>\n",
       "      <td>33.571459</td>\n",
       "      <td>-112.090485</td>\n",
       "      <td>2</td>\n",
       "      <td>3</td>\n",
       "      <td>1</td>\n",
       "      <td>...</td>\n",
       "      <td>http://www.cnn.com/2013/01/31/justice/arizona-...</td>\n",
       "      <td>http://www.usatoday.com/story/news/nation/2013...</td>\n",
       "      <td>http://usnews.nbcnews.com/_news/2013/02/01/168...</td>\n",
       "      <td>http://www.nytimes.com/2013/02/01/us/man-suspe...</td>\n",
       "      <td>http://www.huffingtonpost.com/2013/01/31/phoen...</td>\n",
       "      <td>http://phoenix.gov/police/arthur_douglas_harmo...</td>\n",
       "      <td>http://www.abc15.com/news/region-southeast-val...</td>\n",
       "      <td>Unknown</td>\n",
       "      <td>MS</td>\n",
       "      <td>33.57145875, -112.0904854</td>\n",
       "    </tr>\n",
       "    <tr>\n",
       "      <th>1</th>\n",
       "      <td>128</td>\n",
       "      <td>Oikos University</td>\n",
       "      <td>Oakland, California</td>\n",
       "      <td>Oakland</td>\n",
       "      <td>California</td>\n",
       "      <td>37.791768</td>\n",
       "      <td>-122.215317</td>\n",
       "      <td>7</td>\n",
       "      <td>7</td>\n",
       "      <td>3</td>\n",
       "      <td>...</td>\n",
       "      <td>http://berkeley.patch.com/articles/one-l-goh-s...</td>\n",
       "      <td>http://www.bbc.co.uk/news/world-us-canada-1759...</td>\n",
       "      <td>http://abcnews.go.com/US/oikos-university-shoo...</td>\n",
       "      <td>http://latimesblogs.latimes.com/lanow/2012/04/...</td>\n",
       "      <td>NaN</td>\n",
       "      <td>NaN</td>\n",
       "      <td>NaN</td>\n",
       "      <td>Unknown</td>\n",
       "      <td>MS</td>\n",
       "      <td>37.79176806, -122.2153171</td>\n",
       "    </tr>\n",
       "    <tr>\n",
       "      <th>2</th>\n",
       "      <td>158</td>\n",
       "      <td>Fort Hood</td>\n",
       "      <td>Killeen, Texas</td>\n",
       "      <td>Killeen</td>\n",
       "      <td>Texas</td>\n",
       "      <td>31.079255</td>\n",
       "      <td>-97.733923</td>\n",
       "      <td>3</td>\n",
       "      <td>4</td>\n",
       "      <td>16</td>\n",
       "      <td>...</td>\n",
       "      <td>http://www.cnn.com/2014/04/02/us/fort-hood-sho...</td>\n",
       "      <td>http://www.huffingtonpost.com/2014/04/07/ivan-...</td>\n",
       "      <td>http://www.usatoday.com/story/news/nation/2014...</td>\n",
       "      <td>NaN</td>\n",
       "      <td>NaN</td>\n",
       "      <td>NaN</td>\n",
       "      <td>NaN</td>\n",
       "      <td>Yes</td>\n",
       "      <td>MS</td>\n",
       "      <td>31.07925506, -97.73392317</td>\n",
       "    </tr>\n",
       "    <tr>\n",
       "      <th>3</th>\n",
       "      <td>261</td>\n",
       "      <td>Lawrenceburg, Tennessee</td>\n",
       "      <td>Lawrenceburg, Tennessee</td>\n",
       "      <td>Lawrenceburg</td>\n",
       "      <td>Tennessee</td>\n",
       "      <td>35.242302</td>\n",
       "      <td>-87.334739</td>\n",
       "      <td>1</td>\n",
       "      <td>2</td>\n",
       "      <td>2</td>\n",
       "      <td>...</td>\n",
       "      <td>http://www.al.com/news/huntsville/index.ssf/20...</td>\n",
       "      <td>http://www.al.com/news/huntsville/index.ssf/20...</td>\n",
       "      <td>http://www.timesdaily.com/news/brothers-improv...</td>\n",
       "      <td>NaN</td>\n",
       "      <td>NaN</td>\n",
       "      <td>NaN</td>\n",
       "      <td>NaN</td>\n",
       "      <td>Unknown</td>\n",
       "      <td>MS</td>\n",
       "      <td>35.242302, -87.334739</td>\n",
       "    </tr>\n",
       "    <tr>\n",
       "      <th>4</th>\n",
       "      <td>262</td>\n",
       "      <td>Louisburg, North Carolina</td>\n",
       "      <td>Louisburg, North Carolina</td>\n",
       "      <td>Louisburg</td>\n",
       "      <td>North Carolina</td>\n",
       "      <td>36.099039</td>\n",
       "      <td>-78.301106</td>\n",
       "      <td>3</td>\n",
       "      <td>3</td>\n",
       "      <td>0</td>\n",
       "      <td>...</td>\n",
       "      <td>http://wncn.com/2016/03/27/suspect-in-louisbur...</td>\n",
       "      <td>http://abc11.com/news/3-dead-in-franklin-count...</td>\n",
       "      <td>http://myfox8.com/2016/03/27/gov-mccrory-offer...</td>\n",
       "      <td>http://www.wral.com/1-dead-2-injured-in-shooti...</td>\n",
       "      <td>http://wncn.com/2016/03/26/2-dead-1-injured-in...</td>\n",
       "      <td>NaN</td>\n",
       "      <td>NaN</td>\n",
       "      <td>Unknown</td>\n",
       "      <td>MS</td>\n",
       "      <td>36.099039, -78.301106</td>\n",
       "    </tr>\n",
       "  </tbody>\n",
       "</table>\n",
       "<p>5 rows × 49 columns</p>\n",
       "</div>"
      ],
      "text/plain": [
       "   CaseID                      Title                   Location          City  \\\n",
       "0     140           Phoenix Law Firm           Phoenix, Arizona       Phoenix   \n",
       "1     128           Oikos University        Oakland, California       Oakland   \n",
       "2     158                  Fort Hood             Killeen, Texas       Killeen   \n",
       "3     261    Lawrenceburg, Tennessee    Lawrenceburg, Tennessee  Lawrenceburg   \n",
       "4     262  Louisburg, North Carolina  Louisburg, North Carolina     Louisburg   \n",
       "\n",
       "            State   Latitude   Longitude  Number of Victim Fatalities  \\\n",
       "0         Arizona  33.571459 -112.090485                            2   \n",
       "1      California  37.791768 -122.215317                            7   \n",
       "2           Texas  31.079255  -97.733923                            3   \n",
       "3       Tennessee  35.242302  -87.334739                            1   \n",
       "4  North Carolina  36.099039  -78.301106                            3   \n",
       "\n",
       "   Total Number of Fatalities  Number of Victims Injured  \\\n",
       "0                           3                          1   \n",
       "1                           7                          3   \n",
       "2                           4                         16   \n",
       "3                           2                          2   \n",
       "4                           3                          0   \n",
       "\n",
       "             ...              \\\n",
       "0            ...               \n",
       "1            ...               \n",
       "2            ...               \n",
       "3            ...               \n",
       "4            ...               \n",
       "\n",
       "                                       Data Source 1  \\\n",
       "0  http://www.cnn.com/2013/01/31/justice/arizona-...   \n",
       "1  http://berkeley.patch.com/articles/one-l-goh-s...   \n",
       "2  http://www.cnn.com/2014/04/02/us/fort-hood-sho...   \n",
       "3  http://www.al.com/news/huntsville/index.ssf/20...   \n",
       "4  http://wncn.com/2016/03/27/suspect-in-louisbur...   \n",
       "\n",
       "                                       Data Source 2  \\\n",
       "0  http://www.usatoday.com/story/news/nation/2013...   \n",
       "1  http://www.bbc.co.uk/news/world-us-canada-1759...   \n",
       "2  http://www.huffingtonpost.com/2014/04/07/ivan-...   \n",
       "3  http://www.al.com/news/huntsville/index.ssf/20...   \n",
       "4  http://abc11.com/news/3-dead-in-franklin-count...   \n",
       "\n",
       "                                       Data Source 3  \\\n",
       "0  http://usnews.nbcnews.com/_news/2013/02/01/168...   \n",
       "1  http://abcnews.go.com/US/oikos-university-shoo...   \n",
       "2  http://www.usatoday.com/story/news/nation/2014...   \n",
       "3  http://www.timesdaily.com/news/brothers-improv...   \n",
       "4  http://myfox8.com/2016/03/27/gov-mccrory-offer...   \n",
       "\n",
       "                                       Data Source 4  \\\n",
       "0  http://www.nytimes.com/2013/02/01/us/man-suspe...   \n",
       "1  http://latimesblogs.latimes.com/lanow/2012/04/...   \n",
       "2                                                NaN   \n",
       "3                                                NaN   \n",
       "4  http://www.wral.com/1-dead-2-injured-in-shooti...   \n",
       "\n",
       "                                       Data Source 5  \\\n",
       "0  http://www.huffingtonpost.com/2013/01/31/phoen...   \n",
       "1                                                NaN   \n",
       "2                                                NaN   \n",
       "3                                                NaN   \n",
       "4  http://wncn.com/2016/03/26/2-dead-1-injured-in...   \n",
       "\n",
       "                                       Data Source 6  \\\n",
       "0  http://phoenix.gov/police/arthur_douglas_harmo...   \n",
       "1                                                NaN   \n",
       "2                                                NaN   \n",
       "3                                                NaN   \n",
       "4                                                NaN   \n",
       "\n",
       "                                       Data Source 7  Military Experience  \\\n",
       "0  http://www.abc15.com/news/region-southeast-val...              Unknown   \n",
       "1                                                NaN              Unknown   \n",
       "2                                                NaN                  Yes   \n",
       "3                                                NaN              Unknown   \n",
       "4                                                NaN              Unknown   \n",
       "\n",
       "  Class                   geopoint  \n",
       "0    MS  33.57145875, -112.0904854  \n",
       "1    MS  37.79176806, -122.2153171  \n",
       "2    MS  31.07925506, -97.73392317  \n",
       "3    MS      35.242302, -87.334739  \n",
       "4    MS      36.099039, -78.301106  \n",
       "\n",
       "[5 rows x 49 columns]"
      ]
     },
     "execution_count": 79,
     "metadata": {},
     "output_type": "execute_result"
    }
   ],
   "source": [
    "from pandas import ExcelWriter\n",
    "from pandas import ExcelFile\n",
    "\n",
    "# EXCEL FILE\n",
    "# https://public.opendatasoft.com/explore/dataset/mass-shootings-in-america/information\n",
    "# Number of Victim Fatalities \tTotal Number of Fatalities \tNumber of Victims Injured\n",
    "\n",
    "xlsx_ms = pd.read_excel(\"C:/Elise/BYU/Winter 2019/ECON 213R/Homework 1/mass-shootings-in-america.xlsx\")\n",
    "#xlsx_ms = xlsx_ms.drop(0, axis = 0)\n",
    "xlsx_ms.head()"
   ]
  },
  {
   "cell_type": "markdown",
   "metadata": {},
   "source": [
    "## The Shooters"
   ]
  },
  {
   "cell_type": "code",
   "execution_count": 39,
   "metadata": {},
   "outputs": [
    {
     "data": {
      "text/plain": [
       "Text(0, 0.5, 'Frequency')"
      ]
     },
     "execution_count": 39,
     "metadata": {},
     "output_type": "execute_result"
    },
    {
     "data": {
      "image/png": "[encoded data removed]",
      "text/plain": [
       "<Figure size 432x288 with 1 Axes>"
      ]
     },
     "metadata": {
      "needs_background": "light"
     },
     "output_type": "display_data"
    }
   ],
   "source": [
    "from matplotlib.pyplot import suptitle\n",
    "\n",
    "suptitle(\"Shooters by Gender\")\n",
    "ax = sns.countplot(xlsx_ms['Shooter Sex'])\n",
    "ax.set_ylabel(\"Frequency\")\n"
   ]
  },
  {
   "cell_type": "markdown",
   "metadata": {},
   "source": [
    "The shooters are overwhelmingly male. More shooters are \"unknown\" (unknown, male/female) than female. "
   ]
  },
  {
   "cell_type": "code",
   "execution_count": 67,
   "metadata": {},
   "outputs": [
    {
     "name": "stderr",
     "output_type": "stream",
     "text": [
      "C:\\Users\\User\\Anaconda3\\lib\\site-packages\\scipy\\stats\\stats.py:1713: FutureWarning: Using a non-tuple sequence for multidimensional indexing is deprecated; use `arr[tuple(seq)]` instead of `arr[seq]`. In the future this will be interpreted as an array index, `arr[np.array(seq)]`, which will result either in an error or a different result.\n",
      "  return np.add.reduce(sorted[indexer] * weights, axis=axis) / sumval\n"
     ]
    },
    {
     "data": {
      "text/plain": [
       "Text(0, 0.5, 'Frequency')"
      ]
     },
     "execution_count": 67,
     "metadata": {},
     "output_type": "execute_result"
    },
    {
     "data": {
      "image/png": "[encoded data removed]",
      "text/plain": [
       "<Figure size 432x288 with 1 Axes>"
      ]
     },
     "metadata": {
      "needs_background": "light"
     },
     "output_type": "display_data"
    }
   ],
   "source": [
    "suptitle(\"Age of Shooters\")\n",
    "A = xlsx_ms['Average Shooter Age']\n",
    "Anan = A[~np.isnan(A)] # remove the NaNs\n",
    "b = sns.distplot(Anan, kde = False)\n",
    "b.set_ylabel(\"Frequency\")\n"
   ]
  },
  {
   "cell_type": "markdown",
   "metadata": {},
   "source": [
    "The shooters also tend to be younger, with the majority being younger than 40. "
   ]
  },
  {
   "cell_type": "markdown",
   "metadata": {},
   "source": [
    "## Gun Violence by State (2011)"
   ]
  },
  {
   "cell_type": "markdown",
   "metadata": {},
   "source": [
    "## Shootings of 2019"
   ]
  },
  {
   "cell_type": "code",
   "execution_count": 117,
   "metadata": {},
   "outputs": [
    {
     "data": {
      "text/plain": [
       "Text(0.5, 0, 'States')"
      ]
     },
     "execution_count": 117,
     "metadata": {},
     "output_type": "execute_result"
    },
    {
     "data": {
      "image/png": "[encoded data removed]",
      "text/plain": [
       "<Figure size 1440x576 with 1 Axes>"
      ]
     },
     "metadata": {
      "needs_background": "light"
     },
     "output_type": "display_data"
    }
   ],
   "source": [
    "F, ax = plt.subplots(figsize = (20, 8))\n",
    "\n",
    "json_ms[6] = pd.to_numeric(json_ms[6]) # convert y to a numeric variable\n",
    "\n",
    "suptitle(\"Firearms murders as a percent of all murders in 2011\")\n",
    "ax = sns.scatterplot(x = json_ms[1], y = json_ms[6])\n",
    "ax.set_ylabel(\"Percentage (%)\")\n",
    "ax.set_xlabel(\"States\")\n",
    "\n"
   ]
  },
  {
   "cell_type": "markdown",
   "metadata": {},
   "source": [
    "Idaho and Louisiana have the highest proportion of firearms being used in homicides. "
   ]
  },
  {
   "cell_type": "code",
   "execution_count": 86,
   "metadata": {},
   "outputs": [
    {
     "data": {
      "text/plain": [
       "Text(0.5, 0, 'Number of Fatalities')"
      ]
     },
     "execution_count": 86,
     "metadata": {},
     "output_type": "execute_result"
    },
    {
     "data": {
      "image/png": "[encoded data removed]",
      "text/plain": [
       "<Figure size 432x288 with 1 Axes>"
      ]
     },
     "metadata": {
      "needs_background": "light"
     },
     "output_type": "display_data"
    }
   ],
   "source": [
    "suptitle(\"Number Killed in 2019 Gun Violence\")\n",
    "C = csv_ms['# Killed']\n",
    "Cnan = C[~np.isnan(C)] # remove the NaNs\n",
    "d = sns.distplot(Cnan, kde = False)\n",
    "d.set_ylabel(\"Frequency\")\n",
    "d.set_xlabel(\"Number of Fatalities\")"
   ]
  },
  {
   "cell_type": "code",
   "execution_count": 88,
   "metadata": {},
   "outputs": [
    {
     "data": {
      "text/plain": [
       "Text(0.5, 0, 'Number of Injuries')"
      ]
     },
     "execution_count": 88,
     "metadata": {},
     "output_type": "execute_result"
    },
    {
     "data": {
      "image/png": "[encoded data removed]",
      "text/plain": [
       "<Figure size 432x288 with 1 Axes>"
      ]
     },
     "metadata": {
      "needs_background": "light"
     },
     "output_type": "display_data"
    }
   ],
   "source": [
    "suptitle(\"Number of Injuries in 2019 Gun Violence\")\n",
    "C = csv_ms['# Injured']\n",
    "Cnan = C[~np.isnan(C)] # remove the NaNs\n",
    "d = sns.distplot(Cnan, kde = False)\n",
    "d.set_ylabel(\"Frequency\")\n",
    "d.set_xlabel(\"Number of Injuries\")"
   ]
  }
 ],
 "metadata": {
  "kernelspec": {
   "display_name": "Python 3",
   "language": "python",
   "name": "python3"
  },
  "language_info": {
   "codemirror_mode": {
    "name": "ipython",
    "version": 3
   },
   "file_extension": ".py",
   "mimetype": "text/x-python",
   "name": "python",
   "nbconvert_exporter": "python",
   "pygments_lexer": "ipython3",
   "version": "3.7.1"
  }
 },
 "nbformat": 4,
 "nbformat_minor": 2
}
